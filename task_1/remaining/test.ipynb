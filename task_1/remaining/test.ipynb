{
 "cells": [
  {
   "cell_type": "code",
   "execution_count": 1,
   "id": "e4f8777e",
   "metadata": {},
   "outputs": [],
   "source": [
    "import requests\n",
    "from bs4 import BeautifulSoup"
   ]
  },
  {
   "cell_type": "code",
   "execution_count": null,
   "id": "36d6e918",
   "metadata": {},
   "outputs": [],
   "source": [
    "req = requests.get('https://www.priceforbes.com/expertise/aviation-and-space')\n",
    "sp = BeautifulSoup(req.text, 'html.parser')"
   ]
  },
  {
   "cell_type": "code",
   "execution_count": null,
   "id": "b5c39a37",
   "metadata": {},
   "outputs": [
    {
     "name": "stdout",
     "output_type": "stream",
     "text": [
      "General aviation, corporate jets and helicopter operators Regional airline carriers, cargo operators and aircraft lessors Airport owners, operators, and product manufacturers, infrastructure and related service providers Satellite operators, launch agencies, manufacturers and related service providers\n",
      "Cargo Airlines Flag Carriers Leasing Companies Major Airlines Regional Airlines\n",
      "Air navigation service providers(ATNS) Airport Service Providers and refuellers Airports Contractors Hangarkeepers Maintenance, repair and overhaul providers (MROs) Major and component part manufacturers\n",
      "Corporate Jets and turbo prop aircraft Fixed base operators (FBOs) Fixed Wing Operators Governmental, police and Military Fleets Helicopter Operators Private Aircraft Owners Unmanned Aerial Vehicles (UAVs)\n",
      "Air Navigation Service Providers (ANSPs) Aircraft hull and liability Aircraft hull war risks Airport liability Airport security, contractors and service providers Contingent covers for banks, lessors and financing organisations Cover for executive jet owners’ and operators’ risks Cover for Maintenance, Repair and Overhaul organisations (MROs) Cover for unmanned aerial vehicles (UAVs, drones) Ground handlers Hangarkeepers liability Helicopter fleets and individual helicopter owners Personal accident cover Pilot loss of license Premises liability and airside vehicle cover Product Liability Refuellers War, Terrorism and Political Risks\n",
      "Review your current coverage, highlighting areas for improvement. As many coverage enhancements as possible at no additional premium. A strong advocate for you on market technical committees working to proactively create industry wide coverage enhancements.\n",
      "Data collection. Define risks to be insured, claims profile, potential (re)insurers and reinsurers and programme structure options. Design and define strategy and action plan for placement. Transition open claims. Prepare and submit presentation to (re)insurers.\n",
      "Assist clients with all aspects of contractual review – including Leases, Finance Contracts, Maintenance and Ground Handling Agreements and specific contracts with International Agencies. Our advice includes review of insurance and indemnity provisions to ensure policy coverage aligns with contractual exposures –and where possible we optimise indemnity language.\n",
      "Issue Evidence of Cover documentation to clients, local (re)insurers, airport authorities, CAAs, banks, financiers and lessors. Prepare, issue and review Certificates and LOIs. Advocacy services where we directly negotiate on your behalf with lawyers, financiers, lessors, airport authorities and manufacturers to help achieve your objectives.\n"
     ]
    }
   ],
   "source": [
    "for i in sp.find_all('ul',class_='wp-block-list'):\n",
    "    print(i.get_text(strip=True, separator=' '))"
   ]
  },
  {
   "cell_type": "code",
   "execution_count": 2,
   "id": "167b6679",
   "metadata": {},
   "outputs": [],
   "source": [
    "url_5 ='https://www.juistekredietkeuzes.be/woonkredieten-hypotheken'"
   ]
  },
  {
   "cell_type": "code",
   "execution_count": 3,
   "id": "03f4d063",
   "metadata": {},
   "outputs": [],
   "source": [
    "res = requests.get(url_5)\n",
    "sp = BeautifulSoup(res.text, 'html.parser')"
   ]
  },
  {
   "cell_type": "code",
   "execution_count": 4,
   "id": "26bca343",
   "metadata": {},
   "outputs": [],
   "source": [
    "title = sp.find('div',attrs={'id':'comp-l39tv1302'}).get_text(strip=True)"
   ]
  },
  {
   "cell_type": "code",
   "execution_count": 5,
   "id": "00ecef60",
   "metadata": {},
   "outputs": [
    {
     "data": {
      "text/plain": [
       "'Wat is een Woonkrediet?'"
      ]
     },
     "execution_count": 5,
     "metadata": {},
     "output_type": "execute_result"
    }
   ],
   "source": [
    "title"
   ]
  },
  {
   "cell_type": "code",
   "execution_count": 6,
   "id": "f3eb0e59",
   "metadata": {},
   "outputs": [],
   "source": [
    "desc = sp.find('div',attrs={'id':'comp-l39tv1303'}).get_text(strip=True)"
   ]
  },
  {
   "cell_type": "code",
   "execution_count": 7,
   "id": "b1e54161",
   "metadata": {},
   "outputs": [
    {
     "data": {
      "text/plain": [
       "'Een woonkrediet of hypothecair krediet is een lening, gewaarborgd door een hypotheek op jouw eigendom, om een eigen woning te bouwen of te renoveren.Er zijn veel verschillende types van woonkredieten.Doorgaans gaat het om een lening op lange termijn, van 10 tot 30 jaar.Je ontvangt het ontleende bedrag en betaalt vervolgens, meestal maandelijks, een deel van het bedrag en de verschuldigde intrest terug aan de bank.Er bestaan woonkredieten met zowel vaste als met variabele rente.'"
      ]
     },
     "execution_count": 7,
     "metadata": {},
     "output_type": "execute_result"
    }
   ],
   "source": [
    "desc"
   ]
  },
  {
   "cell_type": "code",
   "execution_count": null,
   "id": "364630ab",
   "metadata": {},
   "outputs": [],
   "source": []
  }
 ],
 "metadata": {
  "kernelspec": {
   "display_name": "Python 3",
   "language": "python",
   "name": "python3"
  },
  "language_info": {
   "codemirror_mode": {
    "name": "ipython",
    "version": 3
   },
   "file_extension": ".py",
   "mimetype": "text/x-python",
   "name": "python",
   "nbconvert_exporter": "python",
   "pygments_lexer": "ipython3",
   "version": "3.12.9"
  }
 },
 "nbformat": 4,
 "nbformat_minor": 5
}
